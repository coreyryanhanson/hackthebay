{
 "cells": [
  {
   "cell_type": "code",
   "execution_count": 1,
   "metadata": {},
   "outputs": [],
   "source": [
    "#Library imports\n",
    "import re\n",
    "import os\n",
    "import sys\n",
    "import shutil\n",
    "import time\n",
    "import math\n",
    "import gzip\n",
    "import fnmatch\n",
    "import random\n",
    "import warnings\n",
    "import numpy as np\n",
    "import pandas as pd\n",
    "import scipy.stats as scs\n",
    "import urllib.request\n",
    "import seaborn as sns\n",
    "import matplotlib.pyplot as plt\n",
    "\n",
    "from collections import OrderedDict\n",
    "\n",
    "import scipy.stats as scs\n",
    "from sklearn.neighbors import BallTree, KDTree\n",
    "\n",
    "import fiona\n",
    "import matplotlib.pyplot as plt\n",
    "import geopandas as gpd\n",
    "from shapely.geometry import Point, Polygon, LineString\n",
    "from pyproj import Proj\n",
    "import geoplot as gplt\n",
    "import geoplot.crs as gcrs\n",
    "\n",
    "# Allows access to scripts and modules relative to the parent directory.\n",
    "parent = os.getcwd()\n",
    "sys.path.append(os.path.join(parent, \"functions\"))\n",
    "\n",
    "# Project specific user driven functions\n",
    "from cleaning_functions import *\n",
    "\n",
    "# My open source reusable user driven function repository.\n",
    "from random_lumberjacks.src.random_lumberjacks.cleaning.cleaning_functions import *\n",
    "from random_lumberjacks.src.random_lumberjacks.model.model_classes import *\n",
    "from random_lumberjacks.src.random_lumberjacks.visualization.visualization_functions import *\n",
    "from random_lumberjacks.src.random_lumberjacks.parsing.parse_noaa import *\n",
    "\n",
    "#Notebook arguments\n",
    "%matplotlib inline"
   ]
  },
  {
   "cell_type": "code",
   "execution_count": 2,
   "metadata": {},
   "outputs": [],
   "source": [
    "station_key = pd.read_csv(\"data/noaa/isd-history.csv\")"
   ]
  },
  {
   "cell_type": "code",
   "execution_count": 3,
   "metadata": {},
   "outputs": [],
   "source": [
    "all_states = station_key[(station_key[\"CTRY\"]==\"US\")][\"STATE\"].dropna().unique()\n",
    "airshed = ['DE','IN','KY','MD','MI','MI','NC','NJ','NY','OH','PA','SC','TN','VA','VT','WV']\n",
    "not_airshed = np.setdiff1d(all_states, airshed)"
   ]
  },
  {
   "cell_type": "code",
   "execution_count": 4,
   "metadata": {},
   "outputs": [],
   "source": [
    "#Converting the end date to datetime to be able to select relevant years.\n",
    "station_key[\"END\"] = pd.to_datetime(station_key[\"END\"], format=\"%Y%m%d\")\n",
    "\n",
    "#All data must have coordinates, be within the US, not be explicitly outside of the airshed, and be from 2001 or later.\n",
    "relevant_stations = station_key[(station_key[\"CTRY\"]==\"US\") & (station_key[\"STATE\"].isin(not_airshed) == False) &\n",
    "                                (station_key[\"END\"] > \"2001\") & (station_key[\"LAT\"].isna()==False)].reset_index().drop(columns = \"index\")\n"
   ]
  },
  {
   "cell_type": "code",
   "execution_count": 5,
   "metadata": {},
   "outputs": [
    {
     "data": {
      "text/html": [
       "<div>\n",
       "<style scoped>\n",
       "    .dataframe tbody tr th:only-of-type {\n",
       "        vertical-align: middle;\n",
       "    }\n",
       "\n",
       "    .dataframe tbody tr th {\n",
       "        vertical-align: top;\n",
       "    }\n",
       "\n",
       "    .dataframe thead th {\n",
       "        text-align: right;\n",
       "    }\n",
       "</style>\n",
       "<table border=\"1\" class=\"dataframe\">\n",
       "  <thead>\n",
       "    <tr style=\"text-align: right;\">\n",
       "      <th></th>\n",
       "      <th>USAF</th>\n",
       "      <th>WBAN</th>\n",
       "      <th>STATION NAME</th>\n",
       "      <th>CTRY</th>\n",
       "      <th>STATE</th>\n",
       "      <th>ICAO</th>\n",
       "      <th>LAT</th>\n",
       "      <th>LON</th>\n",
       "      <th>ELEV(M)</th>\n",
       "      <th>BEGIN</th>\n",
       "      <th>END</th>\n",
       "    </tr>\n",
       "  </thead>\n",
       "  <tbody>\n",
       "    <tr>\n",
       "      <th>0</th>\n",
       "      <td>621010</td>\n",
       "      <td>99999</td>\n",
       "      <td>MOORED BUOY</td>\n",
       "      <td>US</td>\n",
       "      <td>NaN</td>\n",
       "      <td>NaN</td>\n",
       "      <td>50.600</td>\n",
       "      <td>-2.933</td>\n",
       "      <td>-999.0</td>\n",
       "      <td>20080721</td>\n",
       "      <td>2008-07-21</td>\n",
       "    </tr>\n",
       "    <tr>\n",
       "      <th>1</th>\n",
       "      <td>621110</td>\n",
       "      <td>99999</td>\n",
       "      <td>MOORED BUOY</td>\n",
       "      <td>US</td>\n",
       "      <td>NaN</td>\n",
       "      <td>NaN</td>\n",
       "      <td>58.900</td>\n",
       "      <td>-0.200</td>\n",
       "      <td>-999.0</td>\n",
       "      <td>20041118</td>\n",
       "      <td>2004-11-18</td>\n",
       "    </tr>\n",
       "    <tr>\n",
       "      <th>2</th>\n",
       "      <td>621130</td>\n",
       "      <td>99999</td>\n",
       "      <td>MOORED BUOY</td>\n",
       "      <td>US</td>\n",
       "      <td>NaN</td>\n",
       "      <td>NaN</td>\n",
       "      <td>58.400</td>\n",
       "      <td>0.300</td>\n",
       "      <td>-999.0</td>\n",
       "      <td>20040726</td>\n",
       "      <td>2004-07-26</td>\n",
       "    </tr>\n",
       "    <tr>\n",
       "      <th>3</th>\n",
       "      <td>621160</td>\n",
       "      <td>99999</td>\n",
       "      <td>MOORED BUOY</td>\n",
       "      <td>US</td>\n",
       "      <td>NaN</td>\n",
       "      <td>NaN</td>\n",
       "      <td>58.100</td>\n",
       "      <td>1.800</td>\n",
       "      <td>-999.0</td>\n",
       "      <td>20040829</td>\n",
       "      <td>2004-08-29</td>\n",
       "    </tr>\n",
       "    <tr>\n",
       "      <th>4</th>\n",
       "      <td>621170</td>\n",
       "      <td>99999</td>\n",
       "      <td>MOORED BUOY</td>\n",
       "      <td>US</td>\n",
       "      <td>NaN</td>\n",
       "      <td>NaN</td>\n",
       "      <td>57.900</td>\n",
       "      <td>0.100</td>\n",
       "      <td>-999.0</td>\n",
       "      <td>20040726</td>\n",
       "      <td>2004-07-26</td>\n",
       "    </tr>\n",
       "    <tr>\n",
       "      <th>...</th>\n",
       "      <td>...</td>\n",
       "      <td>...</td>\n",
       "      <td>...</td>\n",
       "      <td>...</td>\n",
       "      <td>...</td>\n",
       "      <td>...</td>\n",
       "      <td>...</td>\n",
       "      <td>...</td>\n",
       "      <td>...</td>\n",
       "      <td>...</td>\n",
       "      <td>...</td>\n",
       "    </tr>\n",
       "    <tr>\n",
       "      <th>1533</th>\n",
       "      <td>A06773</td>\n",
       "      <td>334</td>\n",
       "      <td>TUCKER GUTHRIE MEMORIAL AIRPORT</td>\n",
       "      <td>US</td>\n",
       "      <td>KY</td>\n",
       "      <td>KI35</td>\n",
       "      <td>36.859</td>\n",
       "      <td>-83.358</td>\n",
       "      <td>473.1</td>\n",
       "      <td>20140731</td>\n",
       "      <td>2020-08-24</td>\n",
       "    </tr>\n",
       "    <tr>\n",
       "      <th>1534</th>\n",
       "      <td>A06800</td>\n",
       "      <td>120</td>\n",
       "      <td>TAZEWELL COUNTY AIRPORT</td>\n",
       "      <td>US</td>\n",
       "      <td>VA</td>\n",
       "      <td>KJFZ</td>\n",
       "      <td>37.067</td>\n",
       "      <td>-81.800</td>\n",
       "      <td>808.6</td>\n",
       "      <td>20140731</td>\n",
       "      <td>2020-08-24</td>\n",
       "    </tr>\n",
       "    <tr>\n",
       "      <th>1535</th>\n",
       "      <td>A06884</td>\n",
       "      <td>416</td>\n",
       "      <td>LURAY CAVERNS AIRPORT</td>\n",
       "      <td>US</td>\n",
       "      <td>VA</td>\n",
       "      <td>KLUA</td>\n",
       "      <td>38.667</td>\n",
       "      <td>-78.501</td>\n",
       "      <td>275.2</td>\n",
       "      <td>20140731</td>\n",
       "      <td>2020-08-24</td>\n",
       "    </tr>\n",
       "    <tr>\n",
       "      <th>1536</th>\n",
       "      <td>A07086</td>\n",
       "      <td>468</td>\n",
       "      <td>CARL R KELLER FIELD AIRPORT</td>\n",
       "      <td>US</td>\n",
       "      <td>OH</td>\n",
       "      <td>KPCW</td>\n",
       "      <td>41.516</td>\n",
       "      <td>-82.869</td>\n",
       "      <td>179.8</td>\n",
       "      <td>20140731</td>\n",
       "      <td>2020-08-24</td>\n",
       "    </tr>\n",
       "    <tr>\n",
       "      <th>1537</th>\n",
       "      <td>A07359</td>\n",
       "      <td>240</td>\n",
       "      <td>IONIA COUNTY AIRPORT</td>\n",
       "      <td>US</td>\n",
       "      <td>MI</td>\n",
       "      <td>KY70</td>\n",
       "      <td>42.938</td>\n",
       "      <td>-85.061</td>\n",
       "      <td>249.0</td>\n",
       "      <td>20140731</td>\n",
       "      <td>2020-08-24</td>\n",
       "    </tr>\n",
       "  </tbody>\n",
       "</table>\n",
       "<p>1538 rows × 11 columns</p>\n",
       "</div>"
      ],
      "text/plain": [
       "        USAF   WBAN                     STATION NAME CTRY STATE  ICAO     LAT  \\\n",
       "0     621010  99999                      MOORED BUOY   US   NaN   NaN  50.600   \n",
       "1     621110  99999                      MOORED BUOY   US   NaN   NaN  58.900   \n",
       "2     621130  99999                      MOORED BUOY   US   NaN   NaN  58.400   \n",
       "3     621160  99999                      MOORED BUOY   US   NaN   NaN  58.100   \n",
       "4     621170  99999                      MOORED BUOY   US   NaN   NaN  57.900   \n",
       "...      ...    ...                              ...  ...   ...   ...     ...   \n",
       "1533  A06773    334  TUCKER GUTHRIE MEMORIAL AIRPORT   US    KY  KI35  36.859   \n",
       "1534  A06800    120          TAZEWELL COUNTY AIRPORT   US    VA  KJFZ  37.067   \n",
       "1535  A06884    416            LURAY CAVERNS AIRPORT   US    VA  KLUA  38.667   \n",
       "1536  A07086    468      CARL R KELLER FIELD AIRPORT   US    OH  KPCW  41.516   \n",
       "1537  A07359    240             IONIA COUNTY AIRPORT   US    MI  KY70  42.938   \n",
       "\n",
       "         LON  ELEV(M)     BEGIN        END  \n",
       "0     -2.933   -999.0  20080721 2008-07-21  \n",
       "1     -0.200   -999.0  20041118 2004-11-18  \n",
       "2      0.300   -999.0  20040726 2004-07-26  \n",
       "3      1.800   -999.0  20040829 2004-08-29  \n",
       "4      0.100   -999.0  20040726 2004-07-26  \n",
       "...      ...      ...       ...        ...  \n",
       "1533 -83.358    473.1  20140731 2020-08-24  \n",
       "1534 -81.800    808.6  20140731 2020-08-24  \n",
       "1535 -78.501    275.2  20140731 2020-08-24  \n",
       "1536 -82.869    179.8  20140731 2020-08-24  \n",
       "1537 -85.061    249.0  20140731 2020-08-24  \n",
       "\n",
       "[1538 rows x 11 columns]"
      ]
     },
     "execution_count": 5,
     "metadata": {},
     "output_type": "execute_result"
    }
   ],
   "source": [
    "relevant_stations"
   ]
  },
  {
   "cell_type": "code",
   "execution_count": 6,
   "metadata": {},
   "outputs": [],
   "source": [
    "cbp_cmc = pd.read_pickle(\"data/cbp_cmc.pickle\")"
   ]
  },
  {
   "cell_type": "code",
   "execution_count": 7,
   "metadata": {},
   "outputs": [],
   "source": [
    "locations_a = cbp_cmc.groupby([\"Station\"]).first().reset_index()[[\"Station\", \"Latitude\", \"Longitude\"]]\n",
    "locations_b = relevant_stations[[\"USAF\", \"LAT\", \"LON\"]]\n",
    "location_key = locations_a.copy()"
   ]
  },
  {
   "cell_type": "code",
   "execution_count": 8,
   "metadata": {},
   "outputs": [],
   "source": [
    "tree = BallTree(np.deg2rad(locations_b[[\"LAT\", \"LON\"]].values), metric='haversine')"
   ]
  },
  {
   "cell_type": "code",
   "execution_count": 9,
   "metadata": {},
   "outputs": [],
   "source": [
    "distances, indices = tree.query(np.deg2rad(locations_a[[\"Latitude\", \"Longitude\"]]), k = 3)\n",
    "indices = pd.DataFrame(indices, columns = [f\"id{i}\" for i in np.arange(1,4)])\n",
    "distances = pd.DataFrame(distances*3959, columns = [f\"noaa_dist_mi{i}\" for i in np.arange(1,4)])"
   ]
  },
  {
   "cell_type": "code",
   "execution_count": 10,
   "metadata": {},
   "outputs": [],
   "source": [
    "for i, column in enumerate(indices.columns):\n",
    "    location_key[\"USAF_\"+column] = indices[column].map(lambda x: relevant_stations[\"USAF\"][x])\n",
    "    location_key[\"WBAN_\"+column] = indices[column].map(lambda x: relevant_stations[\"WBAN\"][x])\n",
    "    location_key[f\"noaa_dist_mi{i+1}\"] = distances[f\"noaa_dist_mi{i+1}\"]"
   ]
  },
  {
   "cell_type": "code",
   "execution_count": 11,
   "metadata": {},
   "outputs": [],
   "source": [
    "stations_to_query = pd.Index([])\n",
    "for i in np.arange(1,4):\n",
    "    group = location_key[f\"USAF_id{i}\"] + \"-\" + location_key[f\"WBAN_id{i}\"].map(lambda x: f\"{x:05d}\")\n",
    "    stations_to_query = stations_to_query.union(group).unique()"
   ]
  },
  {
   "cell_type": "code",
   "execution_count": 12,
   "metadata": {},
   "outputs": [],
   "source": [
    "station_filepaths = select_noaa_files(stations_to_query, \"data/noaa\", 2001, 2020)"
   ]
  },
  {
   "cell_type": "code",
   "execution_count": 13,
   "metadata": {},
   "outputs": [],
   "source": [
    "def raw_noaa_to_dataframe(data, fixed_locs, optional_locs=None):\n",
    "    columns = [item[0] for item in [*fixed_locs]]\n",
    "    #Adds optional column names if they exist.\n",
    "    if optional_locs:\n",
    "        for block in optional_locs:\n",
    "            columns.extend([item[0] for item in optional_locs[block][1]])\n",
    "    noaa_list = []\n",
    "    for line in data:\n",
    "        var = line[108:].split(b\" \")\n",
    "        fixed_data = parse_fixed_noaa_data(line, fixed_locs)\n",
    "        optional_data = parse_optional_noaa_data(line, optional_locs)\n",
    "        data = fixed_data + optional_data\n",
    "        noaa_list.append(data)\n",
    "    df = pd.DataFrame(noaa_list, columns = columns, dtype=object)\n",
    "    fix_noaa_df_dtypes(df, fixed_locs, optional_locs)\n",
    "    return df"
   ]
  },
  {
   "cell_type": "code",
   "execution_count": 14,
   "metadata": {},
   "outputs": [],
   "source": [
    "key = [\"column_name\", \"start\", \"end\", \"dtype\", \"nan_value\", \"conversion factor\"]\n",
    "\n",
    "fixed_locs = [[\"USAF_ID\", 4, 10, \"str\", None, None], [\"NCEI_WBAN_ID\", 10, 15, \"str\", None, None],\n",
    "              [\"Date\", 15, 27, \"datetime\", None, None], [\"Data Source\", 27, 28, \"str\", \"9\", None],\n",
    "              [\"Latitude\", 28, 34, \"float64\", \"+99999\", 1000], [\"Longitude\", 34, 41, \"float64\", \"+999999\", 1000],\n",
    "              [\"Code\", 41, 46, \"str\", \"99999\", None], [\"Elevation\", 46, 51, \"float64\", \"+9999\", None],\n",
    "              [\"Call_Letter\", 51, 56, \"str\", \"99999\", None], [\"Quality_Control\", 56, 60, \"str\", \"99999\", None],\n",
    "              [\"Wind_Dir\", 60, 63, \"float64\", \"999\", None], [\"Wind_Dir_Q\", 63, 64, \"str\", None, None],\n",
    "              [\"Wind_Type\", 64, 65, \"str\", \"9\", None], [\"Wind_Speed\", 65, 69, \"float64\", \"9999\", 10],\n",
    "              [\"Wind_Speed_Q\", 69, 70, \"str\", None, None], [\"Air Temperature\", 87, 92, \"float64\", \"+9999\", 10],\n",
    "              [\"Air Temperature_Q\", 92, 93, \"str\", None, None], [\"Air_Pressure\", 99, 104, \"float64\", \"99999\", 10],\n",
    "              [\"Air_Pressure_Q\", 104, 105, \"str\", None, None]]\n",
    "\n",
    "optional_locs = OrderedDict([(\"AA1\",[11, [[\"Rain_Period1\", 3, 5, \"str\", \"99\", None],\n",
    "                                          [\"Rain_Depth1\", 5, 9, \"float64\", \"9999\", 10],\n",
    "                                          [\"Rain_Condition1\", 9, 10, \"str\", \"9\", None],\n",
    "                                          [\"Rain_Qual1\", 10, 11, \"str\", None, None]]]),\n",
    "                             (\"AA2\",[11, [[\"Rain_Period2\", 3, 5, \"str\", \"99\", None],\n",
    "                                          [\"Rain_Depth2\", 5, 9, \"float64\", \"9999\", 10],\n",
    "                                          [\"Rain_Condition2\", 9, 10, \"str\", \"9\", None],\n",
    "                                          [\"Rain_Qual2\", 10, 11, \"str\", None, None]]]),\n",
    "                             (\"AA3\",[11, [[\"Rain_Period3\", 3, 5, \"str\", \"99\", None],\n",
    "                                          [\"Rain_Depth3\", 5, 9, \"float64\", \"9999\", 10],\n",
    "                                          [\"Rain_Condition3\", 9, 10, \"str\", \"9\", None],\n",
    "                                          [\"Rain_Qual3\", 10, 11, \"str\", None, None]]]),\n",
    "                             (\"AA4\",[11, [[\"Rain_Period4\", 3, 5, \"str\", \"99\", None],\n",
    "                                          [\"Rain_Depth4\", 5, 9, \"float64\", \"9999\", 10],\n",
    "                                          [\"Rain_Condition4\", 9, 10, \"str\", \"9\", None],\n",
    "                                          [\"Rain_Qual4\", 10, 11, \"str\", None, None]]])])\n"
   ]
  },
  {
   "cell_type": "code",
   "execution_count": 15,
   "metadata": {},
   "outputs": [
    {
     "data": {
      "text/plain": [
       "'data/noaa/2001/691174-99999-2001.gz'"
      ]
     },
     "execution_count": 15,
     "metadata": {},
     "output_type": "execute_result"
    }
   ],
   "source": [
    "station_filepaths[0]"
   ]
  },
  {
   "cell_type": "code",
   "execution_count": 16,
   "metadata": {},
   "outputs": [
    {
     "data": {
      "text/plain": [
       "[b'0161691174999992001020917004+99999+999999FM-15+9999KQAH V02099999999992200019N0060001N1+00701+00001101671ADDGD12991+0300099GF102991999999999999999999MA1101861999999MW1051REMMET068KQAH 091656Z VRB03KT 6000 HZ FEW100 07/00 A3008INS RMK SLP167 FIRST;EQDQ01    003PRSWM1']"
      ]
     },
     "execution_count": 16,
     "metadata": {},
     "output_type": "execute_result"
    }
   ],
   "source": [
    "noaa_gzip_to_raw(station_filepaths[0])"
   ]
  },
  {
   "cell_type": "code",
   "execution_count": 17,
   "metadata": {},
   "outputs": [
    {
     "data": {
      "text/html": [
       "<div>\n",
       "<style scoped>\n",
       "    .dataframe tbody tr th:only-of-type {\n",
       "        vertical-align: middle;\n",
       "    }\n",
       "\n",
       "    .dataframe tbody tr th {\n",
       "        vertical-align: top;\n",
       "    }\n",
       "\n",
       "    .dataframe thead th {\n",
       "        text-align: right;\n",
       "    }\n",
       "</style>\n",
       "<table border=\"1\" class=\"dataframe\">\n",
       "  <thead>\n",
       "    <tr style=\"text-align: right;\">\n",
       "      <th></th>\n",
       "      <th>Wind_Dir</th>\n",
       "      <th>Wind_Dir_Q</th>\n",
       "      <th>Wind_Type</th>\n",
       "      <th>Wind_Speed</th>\n",
       "      <th>Wind_Speed_Q</th>\n",
       "      <th>Air Temperature</th>\n",
       "      <th>Air Temperature_Q</th>\n",
       "      <th>Air_Pressure</th>\n",
       "      <th>Air_Pressure_Q</th>\n",
       "      <th>Rain_Period1</th>\n",
       "    </tr>\n",
       "  </thead>\n",
       "  <tbody>\n",
       "    <tr>\n",
       "      <th>0</th>\n",
       "      <td>220.0</td>\n",
       "      <td>1</td>\n",
       "      <td>N</td>\n",
       "      <td>4.1</td>\n",
       "      <td>1</td>\n",
       "      <td>0.0</td>\n",
       "      <td>1</td>\n",
       "      <td>1019.6</td>\n",
       "      <td>1</td>\n",
       "      <td>NaN</td>\n",
       "    </tr>\n",
       "    <tr>\n",
       "      <th>1</th>\n",
       "      <td>230.0</td>\n",
       "      <td>1</td>\n",
       "      <td>N</td>\n",
       "      <td>3.6</td>\n",
       "      <td>1</td>\n",
       "      <td>-3.0</td>\n",
       "      <td>1</td>\n",
       "      <td>1020.1</td>\n",
       "      <td>1</td>\n",
       "      <td>NaN</td>\n",
       "    </tr>\n",
       "    <tr>\n",
       "      <th>2</th>\n",
       "      <td>220.0</td>\n",
       "      <td>1</td>\n",
       "      <td>N</td>\n",
       "      <td>4.1</td>\n",
       "      <td>1</td>\n",
       "      <td>-2.0</td>\n",
       "      <td>1</td>\n",
       "      <td>1020.6</td>\n",
       "      <td>1</td>\n",
       "      <td>NaN</td>\n",
       "    </tr>\n",
       "    <tr>\n",
       "      <th>3</th>\n",
       "      <td>250.0</td>\n",
       "      <td>1</td>\n",
       "      <td>N</td>\n",
       "      <td>3.6</td>\n",
       "      <td>1</td>\n",
       "      <td>-2.0</td>\n",
       "      <td>1</td>\n",
       "      <td>1020.6</td>\n",
       "      <td>1</td>\n",
       "      <td>NaN</td>\n",
       "    </tr>\n",
       "    <tr>\n",
       "      <th>4</th>\n",
       "      <td>260.0</td>\n",
       "      <td>1</td>\n",
       "      <td>N</td>\n",
       "      <td>3.1</td>\n",
       "      <td>1</td>\n",
       "      <td>-3.0</td>\n",
       "      <td>1</td>\n",
       "      <td>1022.1</td>\n",
       "      <td>1</td>\n",
       "      <td>NaN</td>\n",
       "    </tr>\n",
       "    <tr>\n",
       "      <th>...</th>\n",
       "      <td>...</td>\n",
       "      <td>...</td>\n",
       "      <td>...</td>\n",
       "      <td>...</td>\n",
       "      <td>...</td>\n",
       "      <td>...</td>\n",
       "      <td>...</td>\n",
       "      <td>...</td>\n",
       "      <td>...</td>\n",
       "      <td>...</td>\n",
       "    </tr>\n",
       "    <tr>\n",
       "      <th>9337</th>\n",
       "      <td>240.0</td>\n",
       "      <td>5</td>\n",
       "      <td>N</td>\n",
       "      <td>3.6</td>\n",
       "      <td>5</td>\n",
       "      <td>5.0</td>\n",
       "      <td>5</td>\n",
       "      <td>1018.9</td>\n",
       "      <td>5</td>\n",
       "      <td>D0</td>\n",
       "    </tr>\n",
       "    <tr>\n",
       "      <th>9338</th>\n",
       "      <td>260.0</td>\n",
       "      <td>5</td>\n",
       "      <td>N</td>\n",
       "      <td>2.6</td>\n",
       "      <td>5</td>\n",
       "      <td>5.0</td>\n",
       "      <td>5</td>\n",
       "      <td>1018.8</td>\n",
       "      <td>5</td>\n",
       "      <td>D0</td>\n",
       "    </tr>\n",
       "    <tr>\n",
       "      <th>9339</th>\n",
       "      <td>320.0</td>\n",
       "      <td>5</td>\n",
       "      <td>N</td>\n",
       "      <td>2.1</td>\n",
       "      <td>5</td>\n",
       "      <td>4.4</td>\n",
       "      <td>5</td>\n",
       "      <td>1018.6</td>\n",
       "      <td>5</td>\n",
       "      <td>D0</td>\n",
       "    </tr>\n",
       "    <tr>\n",
       "      <th>9340</th>\n",
       "      <td>NaN</td>\n",
       "      <td>9</td>\n",
       "      <td>C</td>\n",
       "      <td>0.0</td>\n",
       "      <td>5</td>\n",
       "      <td>3.0</td>\n",
       "      <td>5</td>\n",
       "      <td>1019.4</td>\n",
       "      <td>5</td>\n",
       "      <td>D0</td>\n",
       "    </tr>\n",
       "    <tr>\n",
       "      <th>9341</th>\n",
       "      <td>300.0</td>\n",
       "      <td>5</td>\n",
       "      <td>N</td>\n",
       "      <td>1.5</td>\n",
       "      <td>5</td>\n",
       "      <td>3.0</td>\n",
       "      <td>5</td>\n",
       "      <td>1019.6</td>\n",
       "      <td>5</td>\n",
       "      <td>D0</td>\n",
       "    </tr>\n",
       "  </tbody>\n",
       "</table>\n",
       "<p>9342 rows × 10 columns</p>\n",
       "</div>"
      ],
      "text/plain": [
       "      Wind_Dir Wind_Dir_Q Wind_Type  Wind_Speed Wind_Speed_Q  Air Temperature  \\\n",
       "0        220.0          1         N         4.1            1              0.0   \n",
       "1        230.0          1         N         3.6            1             -3.0   \n",
       "2        220.0          1         N         4.1            1             -2.0   \n",
       "3        250.0          1         N         3.6            1             -2.0   \n",
       "4        260.0          1         N         3.1            1             -3.0   \n",
       "...        ...        ...       ...         ...          ...              ...   \n",
       "9337     240.0          5         N         3.6            5              5.0   \n",
       "9338     260.0          5         N         2.6            5              5.0   \n",
       "9339     320.0          5         N         2.1            5              4.4   \n",
       "9340       NaN          9         C         0.0            5              3.0   \n",
       "9341     300.0          5         N         1.5            5              3.0   \n",
       "\n",
       "     Air Temperature_Q  Air_Pressure Air_Pressure_Q Rain_Period1  \n",
       "0                    1        1019.6              1          NaN  \n",
       "1                    1        1020.1              1          NaN  \n",
       "2                    1        1020.6              1          NaN  \n",
       "3                    1        1020.6              1          NaN  \n",
       "4                    1        1022.1              1          NaN  \n",
       "...                ...           ...            ...          ...  \n",
       "9337                 5        1018.9              5           D0  \n",
       "9338                 5        1018.8              5           D0  \n",
       "9339                 5        1018.6              5           D0  \n",
       "9340                 5        1019.4              5           D0  \n",
       "9341                 5        1019.6              5           D0  \n",
       "\n",
       "[9342 rows x 10 columns]"
      ]
     },
     "execution_count": 17,
     "metadata": {},
     "output_type": "execute_result"
    }
   ],
   "source": [
    "raw_data = noaa_gzip_to_raw(\"data/noaa/2001/723075-13769-2001.gz\")\n",
    "raw_data\n",
    "raw_noaa_to_dataframe(raw_data, fixed_locs, optional_locs).iloc[:, 10:20]\n",
    "#raw_noaa_to_dataframe(raw_data, fixed_locs, optional_locs).iloc[0]"
   ]
  },
  {
   "cell_type": "code",
   "execution_count": 18,
   "metadata": {},
   "outputs": [
    {
     "name": "stdout",
     "output_type": "stream",
     "text": [
      "data/noaa/2001/691174-99999-2001.gz\n",
      "data/noaa/2001/723075-13769-2001.gz\n",
      "data/noaa/2001/723080-13737-2001.gz\n",
      "data/noaa/2001/723084-99999-2001.gz\n",
      "data/noaa/2001/723085-13750-2001.gz\n",
      "data/noaa/2001/723086-93741-2001.gz\n",
      "data/noaa/2001/723087-99999-2001.gz\n",
      "data/noaa/2001/723098-99999-2001.gz\n",
      "data/noaa/2001/723114-99999-2001.gz\n",
      "data/noaa/2001/723180-99999-2001.gz\n",
      "data/noaa/2001/724006-99999-2001.gz\n",
      "data/noaa/2001/724007-99999-2001.gz\n",
      "data/noaa/2001/724010-13740-2001.gz\n",
      "data/noaa/2001/724014-99999-2001.gz\n",
      "data/noaa/2001/724016-93736-2001.gz\n",
      "data/noaa/2001/724016-99999-2001.gz\n",
      "data/noaa/2001/724017-99999-2001.gz\n",
      "data/noaa/2001/724020-93739-2001.gz\n",
      "data/noaa/2001/724026-99999-2001.gz\n",
      "data/noaa/2001/724030-93738-2001.gz\n",
      "data/noaa/2001/724033-99999-2001.gz\n",
      "data/noaa/2001/724035-13773-2001.gz\n",
      "data/noaa/2001/724036-99999-2001.gz\n",
      "data/noaa/2001/724037-99999-2001.gz\n",
      "data/noaa/2001/724040-13721-2001.gz\n",
      "data/noaa/2001/724045-93720-2001.gz\n",
      "data/noaa/2001/724050-13743-2001.gz\n",
      "data/noaa/2001/724053-99999-2001.gz\n",
      "data/noaa/2001/724055-99999-2001.gz\n",
      "data/noaa/2001/724057-99999-2001.gz\n",
      "data/noaa/2001/724060-93721-2001.gz\n",
      "data/noaa/2001/724064-99999-2001.gz\n",
      "data/noaa/2001/724066-99999-2001.gz\n",
      "data/noaa/2001/724067-99999-2001.gz\n",
      "data/noaa/2001/724088-99999-2001.gz\n",
      "data/noaa/2001/724089-13781-2001.gz\n",
      "data/noaa/2001/724093-99999-2001.gz\n",
      "data/noaa/2001/724100-13733-2001.gz\n",
      "data/noaa/2001/724105-99999-2001.gz\n",
      "data/noaa/2001/724110-13741-2001.gz\n",
      "data/noaa/2001/724113-99999-2001.gz\n",
      "data/noaa/2001/724115-99999-2001.gz\n",
      "data/noaa/2001/724165-99999-2001.gz\n",
      "data/noaa/2001/724170-13729-2001.gz\n",
      "data/noaa/2001/724177-13734-2001.gz\n",
      "data/noaa/2001/724988-94704-2001.gz\n",
      "data/noaa/2001/724988-99999-2001.gz\n",
      "data/noaa/2001/725103-14712-2001.gz\n",
      "data/noaa/2001/725103-99999-2001.gz\n",
      "data/noaa/2001/725105-14770-2001.gz\n",
      "data/noaa/2001/725105-99999-2001.gz\n",
      "data/noaa/2001/725114-99999-2001.gz\n",
      "data/noaa/2001/725115-14711-2001.gz\n",
      "data/noaa/2001/725116-99999-2001.gz\n",
      "data/noaa/2001/725118-14751-2001.gz\n",
      "data/noaa/2001/725118-99999-2001.gz\n",
      "data/noaa/2001/725119-99999-2001.gz\n",
      "data/noaa/2001/725125-04787-2001.gz\n",
      "data/noaa/2001/725125-99999-2001.gz\n",
      "data/noaa/2001/725126-14736-2001.gz\n",
      "data/noaa/2001/725127-04726-2001.gz\n",
      "data/noaa/2001/725127-99999-2001.gz\n",
      "data/noaa/2001/725128-99999-2001.gz\n",
      "data/noaa/2001/725130-14777-2001.gz\n",
      "data/noaa/2001/725140-14778-2001.gz\n",
      "data/noaa/2001/725144-99999-2001.gz\n",
      "data/noaa/2001/725145-99999-2001.gz\n",
      "data/noaa/2001/725150-04725-2001.gz\n",
      "data/noaa/2001/725155-99999-2001.gz\n",
      "data/noaa/2001/725156-14748-2001.gz\n",
      "data/noaa/2001/725156-99999-2001.gz\n",
      "data/noaa/2001/725157-99999-2001.gz\n",
      "data/noaa/2001/725190-14771-2001.gz\n",
      "data/noaa/2001/725194-99999-2001.gz\n",
      "data/noaa/2001/725197-94794-2001.gz\n",
      "data/noaa/2001/725266-04751-2001.gz\n",
      "data/noaa/2001/725283-99999-2001.gz\n",
      "data/noaa/2001/725434-99999-2001.gz\n",
      "data/noaa/2001/744994-99999-2001.gz\n",
      "data/noaa/2001/745940-99999-2001.gz\n",
      "data/noaa/2001/745944-93784-2001.gz\n",
      "data/noaa/2001/745946-99999-2001.gz\n",
      "data/noaa/2001/745980-99999-2001.gz\n",
      "data/noaa/2001/994400-99999-2001.gz\n",
      "data/noaa/2002/691174-99999-2002.gz\n",
      "data/noaa/2002/723075-13769-2002.gz\n",
      "data/noaa/2002/723080-13737-2002.gz\n",
      "data/noaa/2002/723084-99999-2002.gz\n",
      "data/noaa/2002/723085-13750-2002.gz\n",
      "data/noaa/2002/723086-93741-2002.gz\n",
      "data/noaa/2002/723087-99999-2002.gz\n",
      "data/noaa/2002/723098-99999-2002.gz\n",
      "data/noaa/2002/723114-99999-2002.gz\n",
      "data/noaa/2002/723180-99999-2002.gz\n",
      "data/noaa/2002/724006-99999-2002.gz\n",
      "data/noaa/2002/724007-99999-2002.gz\n",
      "data/noaa/2002/724010-13740-2002.gz\n",
      "data/noaa/2002/724014-99999-2002.gz\n",
      "data/noaa/2002/724016-93736-2002.gz\n",
      "data/noaa/2002/724016-99999-2002.gz\n"
     ]
    },
    {
     "ename": "KeyboardInterrupt",
     "evalue": "",
     "output_type": "error",
     "traceback": [
      "\u001b[0;31m---------------------------------------------------------------------------\u001b[0m",
      "\u001b[0;31mKeyboardInterrupt\u001b[0m                         Traceback (most recent call last)",
      "\u001b[0;32m<ipython-input-18-8e38e722f108>\u001b[0m in \u001b[0;36m<module>\u001b[0;34m\u001b[0m\n\u001b[1;32m      4\u001b[0m     \u001b[0mraw_data\u001b[0m \u001b[0;34m=\u001b[0m \u001b[0mnoaa_gzip_to_raw\u001b[0m\u001b[0;34m(\u001b[0m\u001b[0mfilepath\u001b[0m\u001b[0;34m)\u001b[0m\u001b[0;34m\u001b[0m\u001b[0;34m\u001b[0m\u001b[0m\n\u001b[1;32m      5\u001b[0m     \u001b[0mstation\u001b[0m \u001b[0;34m=\u001b[0m \u001b[0mraw_noaa_to_dataframe\u001b[0m\u001b[0;34m(\u001b[0m\u001b[0mraw_data\u001b[0m\u001b[0;34m,\u001b[0m \u001b[0mfixed_locs\u001b[0m\u001b[0;34m,\u001b[0m \u001b[0moptional_locs\u001b[0m\u001b[0;34m)\u001b[0m\u001b[0;34m\u001b[0m\u001b[0;34m\u001b[0m\u001b[0m\n\u001b[0;32m----> 6\u001b[0;31m     \u001b[0mall_dfs\u001b[0m \u001b[0;34m=\u001b[0m \u001b[0mpd\u001b[0m\u001b[0;34m.\u001b[0m\u001b[0mconcat\u001b[0m\u001b[0;34m(\u001b[0m\u001b[0;34m[\u001b[0m\u001b[0mall_dfs\u001b[0m\u001b[0;34m,\u001b[0m \u001b[0mstation\u001b[0m\u001b[0;34m]\u001b[0m\u001b[0;34m)\u001b[0m\u001b[0;34m\u001b[0m\u001b[0;34m\u001b[0m\u001b[0m\n\u001b[0m",
      "\u001b[0;32m/opt/conda/envs/main/lib/python3.7/site-packages/pandas/core/reshape/concat.py\u001b[0m in \u001b[0;36mconcat\u001b[0;34m(objs, axis, join, ignore_index, keys, levels, names, verify_integrity, sort, copy)\u001b[0m\n\u001b[1;32m    282\u001b[0m         \u001b[0mverify_integrity\u001b[0m\u001b[0;34m=\u001b[0m\u001b[0mverify_integrity\u001b[0m\u001b[0;34m,\u001b[0m\u001b[0;34m\u001b[0m\u001b[0;34m\u001b[0m\u001b[0m\n\u001b[1;32m    283\u001b[0m         \u001b[0mcopy\u001b[0m\u001b[0;34m=\u001b[0m\u001b[0mcopy\u001b[0m\u001b[0;34m,\u001b[0m\u001b[0;34m\u001b[0m\u001b[0;34m\u001b[0m\u001b[0m\n\u001b[0;32m--> 284\u001b[0;31m         \u001b[0msort\u001b[0m\u001b[0;34m=\u001b[0m\u001b[0msort\u001b[0m\u001b[0;34m,\u001b[0m\u001b[0;34m\u001b[0m\u001b[0;34m\u001b[0m\u001b[0m\n\u001b[0m\u001b[1;32m    285\u001b[0m     )\n\u001b[1;32m    286\u001b[0m \u001b[0;34m\u001b[0m\u001b[0m\n",
      "\u001b[0;32m/opt/conda/envs/main/lib/python3.7/site-packages/pandas/core/reshape/concat.py\u001b[0m in \u001b[0;36m__init__\u001b[0;34m(self, objs, axis, join, keys, levels, names, ignore_index, verify_integrity, copy, sort)\u001b[0m\n\u001b[1;32m    360\u001b[0m \u001b[0;34m\u001b[0m\u001b[0m\n\u001b[1;32m    361\u001b[0m             \u001b[0;31m# consolidate\u001b[0m\u001b[0;34m\u001b[0m\u001b[0;34m\u001b[0m\u001b[0;34m\u001b[0m\u001b[0m\n\u001b[0;32m--> 362\u001b[0;31m             \u001b[0mobj\u001b[0m\u001b[0;34m.\u001b[0m\u001b[0m_consolidate\u001b[0m\u001b[0;34m(\u001b[0m\u001b[0minplace\u001b[0m\u001b[0;34m=\u001b[0m\u001b[0;32mTrue\u001b[0m\u001b[0;34m)\u001b[0m\u001b[0;34m\u001b[0m\u001b[0;34m\u001b[0m\u001b[0m\n\u001b[0m\u001b[1;32m    363\u001b[0m             \u001b[0mndims\u001b[0m\u001b[0;34m.\u001b[0m\u001b[0madd\u001b[0m\u001b[0;34m(\u001b[0m\u001b[0mobj\u001b[0m\u001b[0;34m.\u001b[0m\u001b[0mndim\u001b[0m\u001b[0;34m)\u001b[0m\u001b[0;34m\u001b[0m\u001b[0;34m\u001b[0m\u001b[0m\n\u001b[1;32m    364\u001b[0m \u001b[0;34m\u001b[0m\u001b[0m\n",
      "\u001b[0;32m/opt/conda/envs/main/lib/python3.7/site-packages/pandas/core/generic.py\u001b[0m in \u001b[0;36m_consolidate\u001b[0;34m(self, inplace)\u001b[0m\n\u001b[1;32m   5221\u001b[0m         \u001b[0minplace\u001b[0m \u001b[0;34m=\u001b[0m \u001b[0mvalidate_bool_kwarg\u001b[0m\u001b[0;34m(\u001b[0m\u001b[0minplace\u001b[0m\u001b[0;34m,\u001b[0m \u001b[0;34m\"inplace\"\u001b[0m\u001b[0;34m)\u001b[0m\u001b[0;34m\u001b[0m\u001b[0;34m\u001b[0m\u001b[0m\n\u001b[1;32m   5222\u001b[0m         \u001b[0;32mif\u001b[0m \u001b[0minplace\u001b[0m\u001b[0;34m:\u001b[0m\u001b[0;34m\u001b[0m\u001b[0;34m\u001b[0m\u001b[0m\n\u001b[0;32m-> 5223\u001b[0;31m             \u001b[0mself\u001b[0m\u001b[0;34m.\u001b[0m\u001b[0m_consolidate_inplace\u001b[0m\u001b[0;34m(\u001b[0m\u001b[0;34m)\u001b[0m\u001b[0;34m\u001b[0m\u001b[0;34m\u001b[0m\u001b[0m\n\u001b[0m\u001b[1;32m   5224\u001b[0m         \u001b[0;32melse\u001b[0m\u001b[0;34m:\u001b[0m\u001b[0;34m\u001b[0m\u001b[0;34m\u001b[0m\u001b[0m\n\u001b[1;32m   5225\u001b[0m             \u001b[0mf\u001b[0m \u001b[0;34m=\u001b[0m \u001b[0;32mlambda\u001b[0m\u001b[0;34m:\u001b[0m \u001b[0mself\u001b[0m\u001b[0;34m.\u001b[0m\u001b[0m_mgr\u001b[0m\u001b[0;34m.\u001b[0m\u001b[0mconsolidate\u001b[0m\u001b[0;34m(\u001b[0m\u001b[0;34m)\u001b[0m\u001b[0;34m\u001b[0m\u001b[0;34m\u001b[0m\u001b[0m\n",
      "\u001b[0;32m/opt/conda/envs/main/lib/python3.7/site-packages/pandas/core/generic.py\u001b[0m in \u001b[0;36m_consolidate_inplace\u001b[0;34m(self)\u001b[0m\n\u001b[1;32m   5203\u001b[0m             \u001b[0mself\u001b[0m\u001b[0;34m.\u001b[0m\u001b[0m_mgr\u001b[0m \u001b[0;34m=\u001b[0m \u001b[0mself\u001b[0m\u001b[0;34m.\u001b[0m\u001b[0m_mgr\u001b[0m\u001b[0;34m.\u001b[0m\u001b[0mconsolidate\u001b[0m\u001b[0;34m(\u001b[0m\u001b[0;34m)\u001b[0m\u001b[0;34m\u001b[0m\u001b[0;34m\u001b[0m\u001b[0m\n\u001b[1;32m   5204\u001b[0m \u001b[0;34m\u001b[0m\u001b[0m\n\u001b[0;32m-> 5205\u001b[0;31m         \u001b[0mself\u001b[0m\u001b[0;34m.\u001b[0m\u001b[0m_protect_consolidate\u001b[0m\u001b[0;34m(\u001b[0m\u001b[0mf\u001b[0m\u001b[0;34m)\u001b[0m\u001b[0;34m\u001b[0m\u001b[0;34m\u001b[0m\u001b[0m\n\u001b[0m\u001b[1;32m   5206\u001b[0m \u001b[0;34m\u001b[0m\u001b[0m\n\u001b[1;32m   5207\u001b[0m     \u001b[0;32mdef\u001b[0m \u001b[0m_consolidate\u001b[0m\u001b[0;34m(\u001b[0m\u001b[0mself\u001b[0m\u001b[0;34m,\u001b[0m \u001b[0minplace\u001b[0m\u001b[0;34m:\u001b[0m \u001b[0mbool_t\u001b[0m \u001b[0;34m=\u001b[0m \u001b[0;32mFalse\u001b[0m\u001b[0;34m)\u001b[0m\u001b[0;34m:\u001b[0m\u001b[0;34m\u001b[0m\u001b[0;34m\u001b[0m\u001b[0m\n",
      "\u001b[0;32m/opt/conda/envs/main/lib/python3.7/site-packages/pandas/core/generic.py\u001b[0m in \u001b[0;36m_protect_consolidate\u001b[0;34m(self, f)\u001b[0m\n\u001b[1;32m   5192\u001b[0m         \"\"\"\n\u001b[1;32m   5193\u001b[0m         \u001b[0mblocks_before\u001b[0m \u001b[0;34m=\u001b[0m \u001b[0mlen\u001b[0m\u001b[0;34m(\u001b[0m\u001b[0mself\u001b[0m\u001b[0;34m.\u001b[0m\u001b[0m_mgr\u001b[0m\u001b[0;34m.\u001b[0m\u001b[0mblocks\u001b[0m\u001b[0;34m)\u001b[0m\u001b[0;34m\u001b[0m\u001b[0;34m\u001b[0m\u001b[0m\n\u001b[0;32m-> 5194\u001b[0;31m         \u001b[0mresult\u001b[0m \u001b[0;34m=\u001b[0m \u001b[0mf\u001b[0m\u001b[0;34m(\u001b[0m\u001b[0;34m)\u001b[0m\u001b[0;34m\u001b[0m\u001b[0;34m\u001b[0m\u001b[0m\n\u001b[0m\u001b[1;32m   5195\u001b[0m         \u001b[0;32mif\u001b[0m \u001b[0mlen\u001b[0m\u001b[0;34m(\u001b[0m\u001b[0mself\u001b[0m\u001b[0;34m.\u001b[0m\u001b[0m_mgr\u001b[0m\u001b[0;34m.\u001b[0m\u001b[0mblocks\u001b[0m\u001b[0;34m)\u001b[0m \u001b[0;34m!=\u001b[0m \u001b[0mblocks_before\u001b[0m\u001b[0;34m:\u001b[0m\u001b[0;34m\u001b[0m\u001b[0;34m\u001b[0m\u001b[0m\n\u001b[1;32m   5196\u001b[0m             \u001b[0mself\u001b[0m\u001b[0;34m.\u001b[0m\u001b[0m_clear_item_cache\u001b[0m\u001b[0;34m(\u001b[0m\u001b[0;34m)\u001b[0m\u001b[0;34m\u001b[0m\u001b[0;34m\u001b[0m\u001b[0m\n",
      "\u001b[0;32m/opt/conda/envs/main/lib/python3.7/site-packages/pandas/core/generic.py\u001b[0m in \u001b[0;36mf\u001b[0;34m()\u001b[0m\n\u001b[1;32m   5201\u001b[0m \u001b[0;34m\u001b[0m\u001b[0m\n\u001b[1;32m   5202\u001b[0m         \u001b[0;32mdef\u001b[0m \u001b[0mf\u001b[0m\u001b[0;34m(\u001b[0m\u001b[0;34m)\u001b[0m\u001b[0;34m:\u001b[0m\u001b[0;34m\u001b[0m\u001b[0;34m\u001b[0m\u001b[0m\n\u001b[0;32m-> 5203\u001b[0;31m             \u001b[0mself\u001b[0m\u001b[0;34m.\u001b[0m\u001b[0m_mgr\u001b[0m \u001b[0;34m=\u001b[0m \u001b[0mself\u001b[0m\u001b[0;34m.\u001b[0m\u001b[0m_mgr\u001b[0m\u001b[0;34m.\u001b[0m\u001b[0mconsolidate\u001b[0m\u001b[0;34m(\u001b[0m\u001b[0;34m)\u001b[0m\u001b[0;34m\u001b[0m\u001b[0;34m\u001b[0m\u001b[0m\n\u001b[0m\u001b[1;32m   5204\u001b[0m \u001b[0;34m\u001b[0m\u001b[0m\n\u001b[1;32m   5205\u001b[0m         \u001b[0mself\u001b[0m\u001b[0;34m.\u001b[0m\u001b[0m_protect_consolidate\u001b[0m\u001b[0;34m(\u001b[0m\u001b[0mf\u001b[0m\u001b[0;34m)\u001b[0m\u001b[0;34m\u001b[0m\u001b[0;34m\u001b[0m\u001b[0m\n",
      "\u001b[0;32m/opt/conda/envs/main/lib/python3.7/site-packages/pandas/core/internals/managers.py\u001b[0m in \u001b[0;36mconsolidate\u001b[0;34m(self)\u001b[0m\n\u001b[1;32m    973\u001b[0m         \u001b[0mbm\u001b[0m \u001b[0;34m=\u001b[0m \u001b[0mtype\u001b[0m\u001b[0;34m(\u001b[0m\u001b[0mself\u001b[0m\u001b[0;34m)\u001b[0m\u001b[0;34m(\u001b[0m\u001b[0mself\u001b[0m\u001b[0;34m.\u001b[0m\u001b[0mblocks\u001b[0m\u001b[0;34m,\u001b[0m \u001b[0mself\u001b[0m\u001b[0;34m.\u001b[0m\u001b[0maxes\u001b[0m\u001b[0;34m)\u001b[0m\u001b[0;34m\u001b[0m\u001b[0;34m\u001b[0m\u001b[0m\n\u001b[1;32m    974\u001b[0m         \u001b[0mbm\u001b[0m\u001b[0;34m.\u001b[0m\u001b[0m_is_consolidated\u001b[0m \u001b[0;34m=\u001b[0m \u001b[0;32mFalse\u001b[0m\u001b[0;34m\u001b[0m\u001b[0;34m\u001b[0m\u001b[0m\n\u001b[0;32m--> 975\u001b[0;31m         \u001b[0mbm\u001b[0m\u001b[0;34m.\u001b[0m\u001b[0m_consolidate_inplace\u001b[0m\u001b[0;34m(\u001b[0m\u001b[0;34m)\u001b[0m\u001b[0;34m\u001b[0m\u001b[0;34m\u001b[0m\u001b[0m\n\u001b[0m\u001b[1;32m    976\u001b[0m         \u001b[0;32mreturn\u001b[0m \u001b[0mbm\u001b[0m\u001b[0;34m\u001b[0m\u001b[0;34m\u001b[0m\u001b[0m\n\u001b[1;32m    977\u001b[0m \u001b[0;34m\u001b[0m\u001b[0m\n",
      "\u001b[0;32m/opt/conda/envs/main/lib/python3.7/site-packages/pandas/core/internals/managers.py\u001b[0m in \u001b[0;36m_consolidate_inplace\u001b[0;34m(self)\u001b[0m\n\u001b[1;32m    978\u001b[0m     \u001b[0;32mdef\u001b[0m \u001b[0m_consolidate_inplace\u001b[0m\u001b[0;34m(\u001b[0m\u001b[0mself\u001b[0m\u001b[0;34m)\u001b[0m \u001b[0;34m->\u001b[0m \u001b[0;32mNone\u001b[0m\u001b[0;34m:\u001b[0m\u001b[0;34m\u001b[0m\u001b[0;34m\u001b[0m\u001b[0m\n\u001b[1;32m    979\u001b[0m         \u001b[0;32mif\u001b[0m \u001b[0;32mnot\u001b[0m \u001b[0mself\u001b[0m\u001b[0;34m.\u001b[0m\u001b[0mis_consolidated\u001b[0m\u001b[0;34m(\u001b[0m\u001b[0;34m)\u001b[0m\u001b[0;34m:\u001b[0m\u001b[0;34m\u001b[0m\u001b[0;34m\u001b[0m\u001b[0m\n\u001b[0;32m--> 980\u001b[0;31m             \u001b[0mself\u001b[0m\u001b[0;34m.\u001b[0m\u001b[0mblocks\u001b[0m \u001b[0;34m=\u001b[0m \u001b[0mtuple\u001b[0m\u001b[0;34m(\u001b[0m\u001b[0m_consolidate\u001b[0m\u001b[0;34m(\u001b[0m\u001b[0mself\u001b[0m\u001b[0;34m.\u001b[0m\u001b[0mblocks\u001b[0m\u001b[0;34m)\u001b[0m\u001b[0;34m)\u001b[0m\u001b[0;34m\u001b[0m\u001b[0;34m\u001b[0m\u001b[0m\n\u001b[0m\u001b[1;32m    981\u001b[0m             \u001b[0mself\u001b[0m\u001b[0;34m.\u001b[0m\u001b[0m_is_consolidated\u001b[0m \u001b[0;34m=\u001b[0m \u001b[0;32mTrue\u001b[0m\u001b[0;34m\u001b[0m\u001b[0;34m\u001b[0m\u001b[0m\n\u001b[1;32m    982\u001b[0m             \u001b[0mself\u001b[0m\u001b[0;34m.\u001b[0m\u001b[0m_known_consolidated\u001b[0m \u001b[0;34m=\u001b[0m \u001b[0;32mTrue\u001b[0m\u001b[0;34m\u001b[0m\u001b[0;34m\u001b[0m\u001b[0m\n",
      "\u001b[0;32m/opt/conda/envs/main/lib/python3.7/site-packages/pandas/core/internals/managers.py\u001b[0m in \u001b[0;36m_consolidate\u001b[0;34m(blocks)\u001b[0m\n\u001b[1;32m   1898\u001b[0m     \u001b[0;32mfor\u001b[0m \u001b[0;34m(\u001b[0m\u001b[0m_can_consolidate\u001b[0m\u001b[0;34m,\u001b[0m \u001b[0mdtype\u001b[0m\u001b[0;34m)\u001b[0m\u001b[0;34m,\u001b[0m \u001b[0mgroup_blocks\u001b[0m \u001b[0;32min\u001b[0m \u001b[0mgrouper\u001b[0m\u001b[0;34m:\u001b[0m\u001b[0;34m\u001b[0m\u001b[0;34m\u001b[0m\u001b[0m\n\u001b[1;32m   1899\u001b[0m         merged_blocks = _merge_blocks(\n\u001b[0;32m-> 1900\u001b[0;31m             \u001b[0mlist\u001b[0m\u001b[0;34m(\u001b[0m\u001b[0mgroup_blocks\u001b[0m\u001b[0;34m)\u001b[0m\u001b[0;34m,\u001b[0m \u001b[0mdtype\u001b[0m\u001b[0;34m=\u001b[0m\u001b[0mdtype\u001b[0m\u001b[0;34m,\u001b[0m \u001b[0mcan_consolidate\u001b[0m\u001b[0;34m=\u001b[0m\u001b[0m_can_consolidate\u001b[0m\u001b[0;34m\u001b[0m\u001b[0;34m\u001b[0m\u001b[0m\n\u001b[0m\u001b[1;32m   1901\u001b[0m         )\n\u001b[1;32m   1902\u001b[0m         \u001b[0mnew_blocks\u001b[0m \u001b[0;34m=\u001b[0m \u001b[0m_extend_blocks\u001b[0m\u001b[0;34m(\u001b[0m\u001b[0mmerged_blocks\u001b[0m\u001b[0;34m,\u001b[0m \u001b[0mnew_blocks\u001b[0m\u001b[0;34m)\u001b[0m\u001b[0;34m\u001b[0m\u001b[0;34m\u001b[0m\u001b[0m\n",
      "\u001b[0;32m/opt/conda/envs/main/lib/python3.7/site-packages/pandas/core/internals/managers.py\u001b[0m in \u001b[0;36m_merge_blocks\u001b[0;34m(blocks, dtype, can_consolidate)\u001b[0m\n\u001b[1;32m   1920\u001b[0m         \u001b[0;31m# combination of those slices is a slice, too.\u001b[0m\u001b[0;34m\u001b[0m\u001b[0;34m\u001b[0m\u001b[0;34m\u001b[0m\u001b[0m\n\u001b[1;32m   1921\u001b[0m         \u001b[0mnew_mgr_locs\u001b[0m \u001b[0;34m=\u001b[0m \u001b[0mnp\u001b[0m\u001b[0;34m.\u001b[0m\u001b[0mconcatenate\u001b[0m\u001b[0;34m(\u001b[0m\u001b[0;34m[\u001b[0m\u001b[0mb\u001b[0m\u001b[0;34m.\u001b[0m\u001b[0mmgr_locs\u001b[0m\u001b[0;34m.\u001b[0m\u001b[0mas_array\u001b[0m \u001b[0;32mfor\u001b[0m \u001b[0mb\u001b[0m \u001b[0;32min\u001b[0m \u001b[0mblocks\u001b[0m\u001b[0;34m]\u001b[0m\u001b[0;34m)\u001b[0m\u001b[0;34m\u001b[0m\u001b[0;34m\u001b[0m\u001b[0m\n\u001b[0;32m-> 1922\u001b[0;31m         \u001b[0mnew_values\u001b[0m \u001b[0;34m=\u001b[0m \u001b[0mnp\u001b[0m\u001b[0;34m.\u001b[0m\u001b[0mvstack\u001b[0m\u001b[0;34m(\u001b[0m\u001b[0;34m[\u001b[0m\u001b[0mb\u001b[0m\u001b[0;34m.\u001b[0m\u001b[0mvalues\u001b[0m \u001b[0;32mfor\u001b[0m \u001b[0mb\u001b[0m \u001b[0;32min\u001b[0m \u001b[0mblocks\u001b[0m\u001b[0;34m]\u001b[0m\u001b[0;34m)\u001b[0m\u001b[0;34m\u001b[0m\u001b[0;34m\u001b[0m\u001b[0m\n\u001b[0m\u001b[1;32m   1923\u001b[0m \u001b[0;34m\u001b[0m\u001b[0m\n\u001b[1;32m   1924\u001b[0m         \u001b[0margsort\u001b[0m \u001b[0;34m=\u001b[0m \u001b[0mnp\u001b[0m\u001b[0;34m.\u001b[0m\u001b[0margsort\u001b[0m\u001b[0;34m(\u001b[0m\u001b[0mnew_mgr_locs\u001b[0m\u001b[0;34m)\u001b[0m\u001b[0;34m\u001b[0m\u001b[0;34m\u001b[0m\u001b[0m\n",
      "\u001b[0;32m<__array_function__ internals>\u001b[0m in \u001b[0;36mvstack\u001b[0;34m(*args, **kwargs)\u001b[0m\n",
      "\u001b[0;32m/opt/conda/envs/main/lib/python3.7/site-packages/numpy/core/shape_base.py\u001b[0m in \u001b[0;36mvstack\u001b[0;34m(tup)\u001b[0m\n\u001b[1;32m    281\u001b[0m     \u001b[0;32mif\u001b[0m \u001b[0;32mnot\u001b[0m \u001b[0misinstance\u001b[0m\u001b[0;34m(\u001b[0m\u001b[0marrs\u001b[0m\u001b[0;34m,\u001b[0m \u001b[0mlist\u001b[0m\u001b[0;34m)\u001b[0m\u001b[0;34m:\u001b[0m\u001b[0;34m\u001b[0m\u001b[0;34m\u001b[0m\u001b[0m\n\u001b[1;32m    282\u001b[0m         \u001b[0marrs\u001b[0m \u001b[0;34m=\u001b[0m \u001b[0;34m[\u001b[0m\u001b[0marrs\u001b[0m\u001b[0;34m]\u001b[0m\u001b[0;34m\u001b[0m\u001b[0;34m\u001b[0m\u001b[0m\n\u001b[0;32m--> 283\u001b[0;31m     \u001b[0;32mreturn\u001b[0m \u001b[0m_nx\u001b[0m\u001b[0;34m.\u001b[0m\u001b[0mconcatenate\u001b[0m\u001b[0;34m(\u001b[0m\u001b[0marrs\u001b[0m\u001b[0;34m,\u001b[0m \u001b[0;36m0\u001b[0m\u001b[0;34m)\u001b[0m\u001b[0;34m\u001b[0m\u001b[0;34m\u001b[0m\u001b[0m\n\u001b[0m\u001b[1;32m    284\u001b[0m \u001b[0;34m\u001b[0m\u001b[0m\n\u001b[1;32m    285\u001b[0m \u001b[0;34m\u001b[0m\u001b[0m\n",
      "\u001b[0;32m<__array_function__ internals>\u001b[0m in \u001b[0;36mconcatenate\u001b[0;34m(*args, **kwargs)\u001b[0m\n",
      "\u001b[0;31mKeyboardInterrupt\u001b[0m: "
     ]
    }
   ],
   "source": [
    "all_dfs = pd.DataFrame()\n",
    "for filepath in station_filepaths:\n",
    "    print(filepath)\n",
    "    raw_data = noaa_gzip_to_raw(filepath)\n",
    "    station = raw_noaa_to_dataframe(raw_data, fixed_locs, optional_locs)\n",
    "    all_dfs = pd.concat([all_dfs, station])"
   ]
  },
  {
   "cell_type": "code",
   "execution_count": 127,
   "metadata": {},
   "outputs": [],
   "source": []
  },
  {
   "cell_type": "code",
   "execution_count": 111,
   "metadata": {},
   "outputs": [
    {
     "data": {
      "text/plain": [
       "[['Rain_Period1', 3, 5, 'float64', '99', None],\n",
       " ['Rain_Depth1', 5, 9, 'float64', '9999', 10],\n",
       " ['Rain_Condition1', 9, 10, 'str', '9', None],\n",
       " ['Rain_Qual1', 10, 11, 'str', None, None]]"
      ]
     },
     "execution_count": 111,
     "metadata": {},
     "output_type": "execute_result"
    }
   ],
   "source": [
    "optional_locs[\"AA1\"][1]"
   ]
  },
  {
   "cell_type": "code",
   "execution_count": 106,
   "metadata": {},
   "outputs": [],
   "source": [
    "fixed_locs.extend(optional_locs[\"AA1\"][1])"
   ]
  },
  {
   "cell_type": "code",
   "execution_count": 107,
   "metadata": {},
   "outputs": [
    {
     "data": {
      "text/plain": [
       "[['USAF_ID', 4, 10, 'str', None, None],\n",
       " ['NCEI_WBAN_ID', 10, 15, 'str', None, None],\n",
       " ['Date', 15, 27, 'datetime', None, None],\n",
       " ['Data Source', 27, 28, 'str', '9', None],\n",
       " ['Latitude', 28, 34, 'float64', '+99999', 1000],\n",
       " ['Longitude', 34, 41, 'float64', '+99999', 1000],\n",
       " ['Code', 41, 46, 'str', '99999', None],\n",
       " ['Elevation', 46, 51, 'int64', '+9999', None],\n",
       " ['Call_Letter', 51, 56, 'str', '99999', None],\n",
       " ['Quality_Control', 56, 60, 'str', '99999', None],\n",
       " ['Wind_Dir', 60, 63, 'float64', '999', None],\n",
       " ['Wind_Dir_Q', 63, 64, 'str', None, None],\n",
       " ['Wind_Type', 64, 65, 'str', '9', None],\n",
       " ['Wind_Speed', 65, 69, 'float64', '9999', 10],\n",
       " ['Wind_Speed_Q', 69, 70, 'str', None, None],\n",
       " ['Air Temperature', 87, 92, 'float64', '+9999', 10],\n",
       " ['Air Temperature_Q', 92, 93, 'str', None, None],\n",
       " ['Air_Pressure', 99, 104, 'float64', '99999', 10],\n",
       " ['Air_Pressure_Q', 104, 105, 'str', None, None],\n",
       " ['Rain_Period1', 3, 5, 'float64', '99', None],\n",
       " ['Rain_Depth1', 5, 9, 'float64', '9999', 10],\n",
       " ['Rain_Condition1', 9, 10, 'str', '9', None],\n",
       " ['Rain_Qual1', 10, 11, 'str', None, None]]"
      ]
     },
     "execution_count": 107,
     "metadata": {},
     "output_type": "execute_result"
    }
   ],
   "source": [
    "fixed_locs"
   ]
  },
  {
   "cell_type": "code",
   "execution_count": 104,
   "metadata": {},
   "outputs": [
    {
     "data": {
      "text/plain": [
       "[['Rain_Period1', 3, 5, 'float64', '99', None],\n",
       " ['Rain_Depth1', 5, 9, 'float64', '9999', 10],\n",
       " ['Rain_Condition1', 9, 10, 'str', '9', None],\n",
       " ['Rain_Qual1', 10, 11, 'str', None, None]]"
      ]
     },
     "execution_count": 104,
     "metadata": {},
     "output_type": "execute_result"
    }
   ],
   "source": [
    "optional_locs[\"AA1\"][1]"
   ]
  },
  {
   "cell_type": "code",
   "execution_count": 85,
   "metadata": {},
   "outputs": [
    {
     "name": "stdout",
     "output_type": "stream",
     "text": [
      "[b'01', b'0005', b'9', b'5']\n",
      "[nan, nan, nan, nan]\n"
     ]
    }
   ],
   "source": [
    "parse_optional_noaa_data(data[0], optional_locs)"
   ]
  },
  {
   "cell_type": "code",
   "execution_count": 90,
   "metadata": {},
   "outputs": [
    {
     "name": "stdout",
     "output_type": "stream",
     "text": [
      "['Rain_Period1', 'Rain_Depth1', 'Rain_Condition1', 'Rain_Qual1']\n",
      "['Rain_Period2', 'Rain_Depth2', 'Rain_Condition2', 'Rain_Qual2']\n"
     ]
    }
   ],
   "source": [
    "\n",
    "    print(x)"
   ]
  },
  {
   "cell_type": "code",
   "execution_count": 49,
   "metadata": {},
   "outputs": [
    {
     "data": {
      "text/plain": [
       "[b'01', b'0005', b'9', b'5']"
      ]
     },
     "execution_count": 49,
     "metadata": {},
     "output_type": "execute_result"
    }
   ],
   "source": [
    "parse_fixed_noaa_data(ext, optional_locs[\"AA1\"])"
   ]
  },
  {
   "cell_type": "code",
   "execution_count": null,
   "metadata": {},
   "outputs": [],
   "source": [
    "def "
   ]
  },
  {
   "cell_type": "code",
   "execution_count": null,
   "metadata": {},
   "outputs": [],
   "source": [
    "for line in data:\n",
    "    block = extract_noaa_optional_str(line, \"A01\", 11)\n",
    "    print(block)"
   ]
  },
  {
   "cell_type": "code",
   "execution_count": 26,
   "metadata": {},
   "outputs": [
    {
     "data": {
      "text/plain": [
       "b'AA101000595'"
      ]
     },
     "execution_count": 26,
     "metadata": {},
     "output_type": "execute_result"
    }
   ],
   "source": [
    "ext"
   ]
  },
  {
   "cell_type": "code",
   "execution_count": null,
   "metadata": {},
   "outputs": [],
   "source": [
    "for line in data:\n",
    "    term = b\"AA1\"\n",
    "    idx = 108 + line[108:].find(term)\n",
    "    if line.find(term) >= 0:\n",
    "        print(line[idx:])"
   ]
  },
  {
   "cell_type": "code",
   "execution_count": 93,
   "metadata": {},
   "outputs": [
    {
     "data": {
      "text/plain": [
       "b'0184A07359002402019010100156+42938-085061FM-15+0249KY70 V0203505N00315000915MN0020125N5+00105+00055999999ADDAA101000595AU120090015AW1415GA1085+000915999GD14991+0009159MA1099865096945REMMET09812/31/18 19:15:01 METAR KY70 010015Z 35006KT 1 1/4SM UP OVC003 01/01 A2949 RMK AO2 P0002 T00100005'"
      ]
     },
     "execution_count": 93,
     "metadata": {},
     "output_type": "execute_result"
    }
   ],
   "source": [
    "data[0]"
   ]
  },
  {
   "cell_type": "code",
   "execution_count": null,
   "metadata": {},
   "outputs": [],
   "source": []
  }
 ],
 "metadata": {
  "kernelspec": {
   "display_name": "Python 3.7 (main)",
   "language": "python",
   "name": "main"
  },
  "language_info": {
   "codemirror_mode": {
    "name": "ipython",
    "version": 3
   },
   "file_extension": ".py",
   "mimetype": "text/x-python",
   "name": "python",
   "nbconvert_exporter": "python",
   "pygments_lexer": "ipython3",
   "version": "3.7.8"
  }
 },
 "nbformat": 4,
 "nbformat_minor": 4
}
